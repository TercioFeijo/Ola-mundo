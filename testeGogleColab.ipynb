{
  "nbformat": 4,
  "nbformat_minor": 0,
  "metadata": {
    "colab": {
      "provenance": [],
      "toc_visible": true,
      "authorship_tag": "ABX9TyNglniyIlg62GrZ8Lf4EP8V",
      "include_colab_link": true
    },
    "kernelspec": {
      "name": "python3",
      "display_name": "Python 3"
    },
    "language_info": {
      "name": "python"
    }
  },
  "cells": [
    {
      "cell_type": "markdown",
      "metadata": {
        "id": "view-in-github",
        "colab_type": "text"
      },
      "source": [
        "<a href=\"https://colab.research.google.com/github/TercioFeijo/Ola-mundo/blob/main/testeGogleColab.ipynb\" target=\"_parent\"><img src=\"https://colab.research.google.com/assets/colab-badge.svg\" alt=\"Open In Colab\"/></a>"
      ]
    },
    {
      "cell_type": "markdown",
      "source": [],
      "metadata": {
        "id": "fJnQZLTB5Tky"
      }
    },
    {
      "cell_type": "markdown",
      "source": [
        "#TESTE BÁSICO DE UM NOVO PROGRAMA\n",
        "Este é um teste que esu estou fazendo \n"
      ],
      "metadata": {
        "id": "0FHDuv2r5En4"
      }
    },
    {
      "cell_type": "code",
      "execution_count": 2,
      "metadata": {
        "colab": {
          "base_uri": "https://localhost:8080/"
        },
        "id": "49se-bxz4uIn",
        "outputId": "8c4a1d18-3c4c-4ac5-c9f6-7f620a61eb69"
      },
      "outputs": [
        {
          "output_type": "stream",
          "name": "stdout",
          "text": [
            "ola, mundo\n"
          ]
        }
      ],
      "source": [
        "print('ola, mundo')"
      ]
    },
    {
      "cell_type": "code",
      "source": [],
      "metadata": {
        "id": "qpglUi-K5Qy4"
      },
      "execution_count": null,
      "outputs": []
    }
  ]
}